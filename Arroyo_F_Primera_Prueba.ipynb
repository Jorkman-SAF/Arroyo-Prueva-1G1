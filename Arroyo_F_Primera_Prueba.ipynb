{
  "nbformat": 4,
  "nbformat_minor": 0,
  "metadata": {
    "colab": {
      "provenance": [],
      "authorship_tag": "ABX9TyMwgJsqsrUQiu0Wkepex+Ca",
      "include_colab_link": true
    },
    "kernelspec": {
      "name": "python3",
      "display_name": "Python 3"
    },
    "language_info": {
      "name": "python"
    }
  },
  "cells": [
    {
      "cell_type": "markdown",
      "metadata": {
        "id": "view-in-github",
        "colab_type": "text"
      },
      "source": [
        "<a href=\"https://colab.research.google.com/github/Jorkman-SAF/Arroyo-Prueva-1G1/blob/main/Arroyo_F_Primera_Prueba.ipynb\" target=\"_parent\"><img src=\"https://colab.research.google.com/assets/colab-badge.svg\" alt=\"Open In Colab\"/></a>"
      ]
    },
    {
      "cell_type": "markdown",
      "source": [
        "# My first time\n"
      ],
      "metadata": {
        "id": "zxcxZAtje0kh"
      }
    },
    {
      "cell_type": "code",
      "execution_count": null,
      "metadata": {
        "id": "uH3fQfVcdJam",
        "colab": {
          "base_uri": "https://localhost:8080/"
        },
        "outputId": "b7892878-e016-4a78-9e5f-9e5c9aa35681"
      },
      "outputs": [
        {
          "output_type": "stream",
          "name": "stdout",
          "text": [
            "Hello World\n"
          ]
        }
      ],
      "source": [
        "print (\"Hello World\")"
      ]
    },
    {
      "cell_type": "markdown",
      "source": [
        "# El texto que quieran...\n",
        "\n",
        "\n",
        "\n"
      ],
      "metadata": {
        "id": "mHKiJqiAfCQY"
      }
    },
    {
      "cell_type": "code",
      "source": [
        "print (\"Hello, Jorkman\")"
      ],
      "metadata": {
        "colab": {
          "base_uri": "https://localhost:8080/"
        },
        "id": "CSvMbjlofNBY",
        "outputId": "1a04ffc8-5e5a-4769-bb9e-a114393aa289"
      },
      "execution_count": null,
      "outputs": [
        {
          "output_type": "stream",
          "name": "stdout",
          "text": [
            "Hello, Jorkman\n"
          ]
        }
      ]
    }
  ]
}